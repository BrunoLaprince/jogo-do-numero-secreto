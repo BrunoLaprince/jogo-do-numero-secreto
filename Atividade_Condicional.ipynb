{
  "nbformat": 4,
  "nbformat_minor": 0,
  "metadata": {
    "colab": {
      "provenance": [],
      "authorship_tag": "ABX9TyP/0+acSo/aynfqAk0FK1BB",
      "include_colab_link": true
    },
    "kernelspec": {
      "name": "python3",
      "display_name": "Python 3"
    },
    "language_info": {
      "name": "python"
    }
  },
  "cells": [
    {
      "cell_type": "markdown",
      "metadata": {
        "id": "view-in-github",
        "colab_type": "text"
      },
      "source": [
        "<a href=\"https://colab.research.google.com/github/BrunoLaprince/jogo-do-numero-secreto/blob/main/Atividade_Condicional.ipynb\" target=\"_parent\"><img src=\"https://colab.research.google.com/assets/colab-badge.svg\" alt=\"Open In Colab\"/></a>"
      ]
    },
    {
      "cell_type": "markdown",
      "source": [
        "1. Desenvolva um programa em Pyton que solicite ao usuário um número inteiro. 1.1. Verificar se o número é positivo, negativo ou zero e exibir a mensagem correspondente:"
      ],
      "metadata": {
        "id": "fwOhvwXbJrXw"
      }
    },
    {
      "cell_type": "code",
      "source": [
        "\n",
        "numero = int(input(\"Digite um número inteiro: \"))\n",
        "print('')\n",
        "print('O numero digitido é:', numero)\n",
        "\n",
        "if numero > 0:\n",
        "        print('O número é positivo')\n",
        "else :\n",
        "    if numero < 0:\n",
        "        print('O número é negativo')\n",
        "    else:\n",
        "        print('O número é zero')\n"
      ],
      "metadata": {
        "colab": {
          "base_uri": "https://localhost:8080/"
        },
        "id": "Pcz3IhadKoj2",
        "outputId": "6469e6d1-25a1-46d7-c87a-abb5b7f929d1"
      },
      "execution_count": 1,
      "outputs": [
        {
          "output_type": "stream",
          "name": "stdout",
          "text": [
            "Digite um número inteiro: 5\n",
            "\n",
            "O numero digitido é: 5\n",
            "O número é positivo\n"
          ]
        }
      ]
    },
    {
      "cell_type": "markdown",
      "source": [
        "2. Crie um programa em Python que solicite ao usuário a sua idade e verifique em qual faixa etária a pessoa se encontra. O programa deve classificar a idade em uma das seguintes categorias e exibir a categoria correspondente"
      ],
      "metadata": {
        "id": "bSkCaJf5PWj1"
      }
    },
    {
      "cell_type": "code",
      "source": [
        "idade = int(input(\"Digite sua idade: \"))\n",
        "print('')\n",
        "print('Sua idade é:', idade)\n",
        "\n",
        "if idade >= 0 and idade <= 12:\n",
        "    print('Você está na categoria: Criança')\n",
        "elif idade >= 13 and idade <= 17:\n",
        "    print('Você está na categoria: Adolescente')\n",
        "elif idade >= 18 and idade <= 59:\n",
        "    print('Você está na categoria: Adulto')\n",
        ""
      ],
      "metadata": {
        "colab": {
          "base_uri": "https://localhost:8080/"
        },
        "id": "XMzAWW0OPxPM",
        "outputId": "0757e738-f09f-487f-e3e3-d502f01388fd"
      },
      "execution_count": 2,
      "outputs": [
        {
          "output_type": "stream",
          "name": "stdout",
          "text": [
            "Digite sua idade: 42\n",
            "\n",
            "Sua idade é: 42\n",
            "Você está na categoria: Adulto\n"
          ]
        }
      ]
    },
    {
      "cell_type": "markdown",
      "source": [
        "3. Crie um programa em Python que solicite ao usuário um número inteiro. O programa deve verificar se o número é menor que 10 e exibir uma mensagem informando se o número é menor que 10 ou não."
      ],
      "metadata": {
        "id": "7YQoi7u2QVv0"
      }
    },
    {
      "cell_type": "code",
      "source": [
        "while True:\n",
        "    numero = int(input('Digite um número inteiro:'))\n",
        "    print('')\n",
        "    print(f'Você digitou o número:', numero)\n",
        "\n",
        "    if numero == 10:\n",
        "        print('O número é igual a 10')\n",
        "    elif numero < 10:\n",
        "        print('O número é menor que 10')\n",
        "    else:\n",
        "        print('O número não é menor que 10')\n",
        "    break\n",
        "\n"
      ],
      "metadata": {
        "colab": {
          "base_uri": "https://localhost:8080/"
        },
        "id": "4ULP-bOPQm6N",
        "outputId": "604a9bb7-0bdd-4171-cef2-8e9e7339d8a7"
      },
      "execution_count": 15,
      "outputs": [
        {
          "output_type": "stream",
          "name": "stdout",
          "text": [
            "Digite um número inteiro:5\n",
            "\n",
            "Você digitou o número: {5}\n",
            "O número é menor que 10\n"
          ]
        }
      ]
    },
    {
      "cell_type": "markdown",
      "source": [
        "4. Crie um programa em Python que solicite ao usuario um número interio. O programa deve verificar se o número é igual a 100 e exibir uma mensagem informando se o número é igual a 100 ou não."
      ],
      "metadata": {
        "id": "WMs-K-RqTCIk"
      }
    },
    {
      "cell_type": "code",
      "source": [
        "while True:\n",
        "    numero = int(input('Digite um número inteiro:'))\n",
        "    print('')\n",
        "    print(f'Você digitou o número: ', numero)\n",
        "\n",
        "    if numero == 100:\n",
        "       print('O número digitado é igual a 100')\n",
        "    else:\n",
        "       print('O número digitado não é igual a 100')\n",
        "    break"
      ],
      "metadata": {
        "colab": {
          "base_uri": "https://localhost:8080/"
        },
        "id": "tmZbARtOTlv9",
        "outputId": "8f184ec1-f681-45b5-a557-f1d6c04a8843"
      },
      "execution_count": 19,
      "outputs": [
        {
          "output_type": "stream",
          "name": "stdout",
          "text": [
            "Digite um número inteiro:90\n",
            "\n",
            "Você digitou o número:  90\n",
            "O número digitado não é igual a 100\n"
          ]
        }
      ]
    },
    {
      "cell_type": "markdown",
      "source": [
        "5. Crie um programa em Python que solicite ao usuário a nota de quatro provas e determine o desempenho final de um aluno com base nas seguintes condições:"
      ],
      "metadata": {
        "id": "SBeXZeTGUh_Q"
      }
    },
    {
      "cell_type": "code",
      "source": [
        "\n",
        "i = \"S\"\n",
        "\n",
        "while i == \"S\":\n",
        "    nota1 = int(input('Digite sua primeira nota:'))\n",
        "    nota2 = int(input('Digite sua segunda nota:'))\n",
        "    nota3 = int(input('Digite sua terceira nota:'))\n",
        "    nota4 = int(input('Digite sua quarta nota:'))\n",
        "\n",
        "    media = (nota1 + nota2 + nota3 + nota4) / 4\n",
        "    print(\"\")\n",
        "    print('A sua média é:', media)\n",
        "\n",
        "    if media >= 9:\n",
        "        print('Excelente')\n",
        "    elif media >= 7 and media <= 9:\n",
        "        print('Bom')\n",
        "    elif media >= 5 and media <= 7:\n",
        "        print('Regular')\n",
        "        i = input('Deseja continuar: S/N')\n",
        "\n",
        ""
      ],
      "metadata": {
        "colab": {
          "base_uri": "https://localhost:8080/"
        },
        "id": "thEBUtgPUw4W",
        "outputId": "d571f09d-3b2e-4ab4-cb70-640e14693828"
      },
      "execution_count": null,
      "outputs": [
        {
          "output_type": "stream",
          "name": "stdout",
          "text": [
            "Digite sua primeira nota:7\n",
            "Digite sua segunda nota:8\n",
            "Digite sua terceira nota:9\n",
            "Digite sua quarta nota:5\n",
            "\n",
            "A sua média é: 7.25\n",
            "Bom\n",
            "Digite sua primeira nota:7\n",
            "Digite sua segunda nota:5\n",
            "Digite sua terceira nota:6\n",
            "Digite sua quarta nota:2\n",
            "\n",
            "A sua média é: 5.0\n",
            "Regular\n"
          ]
        }
      ]
    }
  ]
}