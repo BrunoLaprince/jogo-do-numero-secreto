{
  "nbformat": 4,
  "nbformat_minor": 0,
  "metadata": {
    "colab": {
      "provenance": [],
      "authorship_tag": "ABX9TyMJ2pQ+VVuz8xOQvoVwaab4",
      "include_colab_link": true
    },
    "kernelspec": {
      "name": "python3",
      "display_name": "Python 3"
    },
    "language_info": {
      "name": "python"
    }
  },
  "cells": [
    {
      "cell_type": "markdown",
      "metadata": {
        "id": "view-in-github",
        "colab_type": "text"
      },
      "source": [
        "<a href=\"https://colab.research.google.com/github/BrunoLaprince/jogo-do-numero-secreto/blob/main/Exerc%C3%ADcios%20variados.ipynb\" target=\"_parent\"><img src=\"https://colab.research.google.com/assets/colab-badge.svg\" alt=\"Open In Colab\"/></a>"
      ]
    },
    {
      "cell_type": "markdown",
      "source": [
        "Atividade: Laços de repetições FOR e WHILE"
      ],
      "metadata": {
        "id": "Tl0eYdZnoP7K"
      }
    },
    {
      "cell_type": "markdown",
      "source": [
        "1. Contagem Simples: Crie um programa que exiba na tela os números de 1 a 10, um abaixo do outro, utilizando um laço while"
      ],
      "metadata": {
        "id": "57wjAbosoW3j"
      }
    },
    {
      "cell_type": "code",
      "source": [
        "for i in range (1, 11):\n",
        "    print(i, end=\" \")"
      ],
      "metadata": {
        "colab": {
          "base_uri": "https://localhost:8080/"
        },
        "id": "Z9sXRUp8rnkg",
        "outputId": "ea231108-891a-4cc6-a513-a3c98f450fe4"
      },
      "execution_count": 33,
      "outputs": [
        {
          "output_type": "stream",
          "name": "stdout",
          "text": [
            "1 2 3 4 5 6 7 8 9 10 "
          ]
        }
      ]
    },
    {
      "cell_type": "code",
      "source": [
        "for i in range (1, 11):\n",
        "    print(i)"
      ],
      "metadata": {
        "colab": {
          "base_uri": "https://localhost:8080/"
        },
        "id": "qkP0TOrLt94B",
        "outputId": "a1e8915a-5fd4-43b3-b800-c9d0b5764a4b"
      },
      "execution_count": 34,
      "outputs": [
        {
          "output_type": "stream",
          "name": "stdout",
          "text": [
            "1\n",
            "2\n",
            "3\n",
            "4\n",
            "5\n",
            "6\n",
            "7\n",
            "8\n",
            "9\n",
            "10\n"
          ]
        }
      ]
    },
    {
      "cell_type": "markdown",
      "source": [
        "2. Tabuada com For: Peça ao usuário um número inteiro e exiba a tabuada desse número (de 1 a 10), utilizando um for"
      ],
      "metadata": {
        "id": "qvVqp0Pyo1Vj"
      }
    },
    {
      "cell_type": "code",
      "source": [
        "\n",
        "\n",
        "# Y corresponde ao um número de 1 a 10\n",
        "y = int(input(\"Digite um número: \"))\n",
        "\n",
        "# Multiplicador\n",
        "for numero in range (1, 11):\n",
        "    mult = y * numero\n",
        "    print(y, \"x\", numero, \"=\", mult)"
      ],
      "metadata": {
        "colab": {
          "base_uri": "https://localhost:8080/"
        },
        "id": "1uiIrzkoqtsi",
        "outputId": "f50aac53-7014-4f8a-ce4f-d9060f80b1d1"
      },
      "execution_count": 38,
      "outputs": [
        {
          "output_type": "stream",
          "name": "stdout",
          "text": [
            "Digite um número: 6\n",
            "6 x 1 = 6\n",
            "6 x 2 = 12\n",
            "6 x 3 = 18\n",
            "6 x 4 = 24\n",
            "6 x 5 = 30\n",
            "6 x 6 = 36\n",
            "6 x 7 = 42\n",
            "6 x 8 = 48\n",
            "6 x 9 = 54\n",
            "6 x 10 = 60\n"
          ]
        }
      ]
    },
    {
      "cell_type": "code",
      "source": [],
      "metadata": {
        "id": "pZxhP23YpKF3"
      },
      "execution_count": null,
      "outputs": []
    },
    {
      "cell_type": "code",
      "source": [],
      "metadata": {
        "colab": {
          "base_uri": "https://localhost:8080/"
        },
        "id": "RC27svVPpJ4I",
        "outputId": "28e954fa-006a-4af8-c8d2-d72efe6ecbac"
      },
      "execution_count": 24,
      "outputs": [
        {
          "output_type": "stream",
          "name": "stdout",
          "text": [
            "1 2 3 4 5 6 7 8 9 10 "
          ]
        }
      ]
    },
    {
      "cell_type": "markdown",
      "source": [
        "4."
      ],
      "metadata": {
        "id": "gOCsUTNwpJvI"
      }
    },
    {
      "cell_type": "code",
      "source": [
        "for i in range (0, 51, 2):\n",
        "    print(\"contador:\", i)"
      ],
      "metadata": {
        "colab": {
          "base_uri": "https://localhost:8080/"
        },
        "id": "Y97Bq43rpMQv",
        "outputId": "8cfb8abc-4bfe-454b-ccf9-210514fcc2af"
      },
      "execution_count": 18,
      "outputs": [
        {
          "output_type": "stream",
          "name": "stdout",
          "text": [
            "contador: 0\n",
            "contador: 2\n",
            "contador: 4\n",
            "contador: 6\n",
            "contador: 8\n",
            "contador: 10\n",
            "contador: 12\n",
            "contador: 14\n",
            "contador: 16\n",
            "contador: 18\n",
            "contador: 20\n",
            "contador: 22\n",
            "contador: 24\n",
            "contador: 26\n",
            "contador: 28\n",
            "contador: 30\n",
            "contador: 32\n",
            "contador: 34\n",
            "contador: 36\n",
            "contador: 38\n",
            "contador: 40\n",
            "contador: 42\n",
            "contador: 44\n",
            "contador: 46\n",
            "contador: 48\n",
            "contador: 50\n"
          ]
        }
      ]
    }
  ]
}