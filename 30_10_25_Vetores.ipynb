{
  "nbformat": 4,
  "nbformat_minor": 0,
  "metadata": {
    "colab": {
      "provenance": [],
      "authorship_tag": "ABX9TyNHOrTAJjfiGkOVxQKpJk5R",
      "include_colab_link": true
    },
    "kernelspec": {
      "name": "python3",
      "display_name": "Python 3"
    },
    "language_info": {
      "name": "python"
    }
  },
  "cells": [
    {
      "cell_type": "markdown",
      "metadata": {
        "id": "view-in-github",
        "colab_type": "text"
      },
      "source": [
        "<a href=\"https://colab.research.google.com/github/BrunoLaprince/jogo-do-numero-secreto/blob/main/30_10_25_Vetores.ipynb\" target=\"_parent\"><img src=\"https://colab.research.google.com/assets/colab-badge.svg\" alt=\"Open In Colab\"/></a>"
      ]
    },
    {
      "cell_type": "code",
      "execution_count": 55,
      "metadata": {
        "colab": {
          "base_uri": "https://localhost:8080/"
        },
        "id": "YvlgRa_vOIPm",
        "outputId": "6adefd8e-054f-439b-ab44-7c208bea6579"
      },
      "outputs": [
        {
          "output_type": "stream",
          "name": "stdout",
          "text": [
            "[90, 80, 60, 50, 40, 30, 20, 10]\n",
            "60 40\n"
          ]
        }
      ],
      "source": [
        "numeros = [10,20,30,40,50,60,80,90] #[\n",
        "# numeros[2] = 60 #[x] o que está entre colchete é o \"x\" que será demonstrado dentro do vetor;\n",
        "# numeros.append(70) #append, vai incrementar um único número da array o numero na últma posição, o que está entre ('atributo');\n",
        "# # numeros.insert(0,5) #insert, determino a posição e o valor, exemplo (0: representa a posição e 5: o valor a ser inserido);\n",
        "# numeros.remove(20) #remove ou exclui o (atributo) dentro do vetor;\n",
        "# del numeros[3] #del ou exclui o (atributo) dentro do vetor;\n",
        "# numeros.reverse() #reverse, troca a posição da array, o último numero começa a ser o primeiro, [90, 80, ... , 10]\n",
        "# numeros.sort() # sort, ordena os números dentro do array;\n",
        "numeros.sort(reverse=True) #sort(reverse=True)\n",
        "\n",
        "print(numeros)\n",
        "print(numeros[2], numeros[4])"
      ]
    },
    {
      "cell_type": "code",
      "source": [
        "for numero in range (len(numeros)): # len, é um argumento que faz a contagem de quantas posições tem dentro do meu array;\n",
        "    print(f'posição {numero}: numero {numeros [numero]}')"
      ],
      "metadata": {
        "colab": {
          "base_uri": "https://localhost:8080/"
        },
        "id": "Mbeh14XmThxF",
        "outputId": "2f3fd3dd-dd4c-4e9c-c5a3-f704e4e4659d"
      },
      "execution_count": 53,
      "outputs": [
        {
          "output_type": "stream",
          "name": "stdout",
          "text": [
            "posição 0: numero 10\n",
            "posição 1: numero 20\n",
            "posição 2: numero 30\n",
            "posição 3: numero 40\n",
            "posição 4: numero 50\n",
            "posição 5: numero 60\n",
            "posição 6: numero 80\n",
            "posição 7: numero 90\n"
          ]
        }
      ]
    },
    {
      "cell_type": "code",
      "source": [
        "for numero in range (len(numeros)):\n",
        "    if numero == 2:\n",
        "        soma = numeros[numero]\n",
        "    if numero == 4:\n",
        "        soma += numeros[numero]\n",
        "print(f'posição {numero}: numero {numeros[numero]}')\n",
        "print(soma)"
      ],
      "metadata": {
        "colab": {
          "base_uri": "https://localhost:8080/"
        },
        "id": "fL6fHCcSV5zk",
        "outputId": "d8981329-5630-4b91-887f-100e8ee17041"
      },
      "execution_count": 52,
      "outputs": [
        {
          "output_type": "stream",
          "name": "stdout",
          "text": [
            "posição 7: numero 90\n",
            "80\n"
          ]
        }
      ]
    },
    {
      "cell_type": "code",
      "source": [],
      "metadata": {
        "id": "qtrBs73iXyet"
      },
      "execution_count": null,
      "outputs": []
    }
  ]
}