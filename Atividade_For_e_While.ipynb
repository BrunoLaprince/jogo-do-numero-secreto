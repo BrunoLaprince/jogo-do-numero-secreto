{
  "nbformat": 4,
  "nbformat_minor": 0,
  "metadata": {
    "colab": {
      "provenance": [],
      "authorship_tag": "ABX9TyMIydBq7LhW4wbZCRx+5SER",
      "include_colab_link": true
    },
    "kernelspec": {
      "name": "python3",
      "display_name": "Python 3"
    },
    "language_info": {
      "name": "python"
    }
  },
  "cells": [
    {
      "cell_type": "markdown",
      "metadata": {
        "id": "view-in-github",
        "colab_type": "text"
      },
      "source": [
        "<a href=\"https://colab.research.google.com/github/BrunoLaprince/jogo-do-numero-secreto/blob/main/Atividade_For_e_While.ipynb\" target=\"_parent\"><img src=\"https://colab.research.google.com/assets/colab-badge.svg\" alt=\"Open In Colab\"/></a>"
      ]
    },
    {
      "cell_type": "markdown",
      "source": [
        "1. Exercício 1 – Contagem simples\n",
        "Crie um programa que exiba na tela os números de 1 a 10, um abaixo do outro,\n",
        "utilizando um laço while."
      ],
      "metadata": {
        "id": "XLXBRjL2b4bu"
      }
    },
    {
      "cell_type": "code",
      "source": [
        "contador = 1\n",
        "\n",
        "while contador <= 10:\n",
        "    print(contador, end=\" \")\n",
        "    contador += 1 #incrementa o valor"
      ],
      "metadata": {
        "colab": {
          "base_uri": "https://localhost:8080/"
        },
        "id": "_jVBik6qco-n",
        "outputId": "5fb18615-8dec-42fc-b93d-fed12d38983d"
      },
      "execution_count": 3,
      "outputs": [
        {
          "output_type": "stream",
          "name": "stdout",
          "text": [
            "1 2 3 4 5 6 7 8 9 10 "
          ]
        }
      ]
    },
    {
      "cell_type": "markdown",
      "source": [
        "Exercício 2 – Tabuada com For\n",
        "Peça ao usuário um número inteiro e exiba a tabuada desse número (de 1 a 10)\n",
        "utilizando um for."
      ],
      "metadata": {
        "id": "IghXwcu-c-RW"
      }
    },
    {
      "cell_type": "code",
      "source": [
        "continuar = 's'\n",
        "\n",
        "while continuar.lower() == 's':\n",
        "    print(\"O último número digitado foi:\", numero)\n",
        "    numero = int(float(input(\"Qual o próximo número escolhido: \")))\n",
        "\n",
        "    for i in range(1,11): # de 1 a 10\n",
        "            print(f\"{numero} x {i} = {numero * i}\")\n",
        "\n",
        "\n",
        "continuar = input('Digite a opção desejada: [s/n]')\n",
        "print(f\"O número escolhido para Tabuada é:\") #Gera e exibe a tabuada\n",
        "\n",
        "# Limpa a saída após exibir a tabuada\n",
        "input('Precione Enter para limpar a saída...')\n",
        "clear_output()\n",
        "\n",
        "\n",
        "\n"
      ],
      "metadata": {
        "colab": {
          "base_uri": "https://localhost:8080/"
        },
        "id": "ueQMjW7idAxm",
        "outputId": "ba65fd2e-28b1-419d-8800-15e838cc6bca"
      },
      "execution_count": null,
      "outputs": [
        {
          "output_type": "stream",
          "name": "stdout",
          "text": [
            "O último número digitado foi: 1\n",
            "Qual o próximo número escolhido: 5\n",
            "5 x 1 = 5\n",
            "5 x 2 = 10\n",
            "5 x 3 = 15\n",
            "5 x 4 = 20\n",
            "5 x 5 = 25\n",
            "5 x 6 = 30\n",
            "5 x 7 = 35\n",
            "5 x 8 = 40\n",
            "5 x 9 = 45\n",
            "5 x 10 = 50\n",
            "O último número digitado foi: 5\n",
            "Qual o próximo número escolhido: 7\n",
            "7 x 1 = 7\n",
            "7 x 2 = 14\n",
            "7 x 3 = 21\n",
            "7 x 4 = 28\n",
            "7 x 5 = 35\n",
            "7 x 6 = 42\n",
            "7 x 7 = 49\n",
            "7 x 8 = 56\n",
            "7 x 9 = 63\n",
            "7 x 10 = 70\n",
            "O último número digitado foi: 7\n"
          ]
        }
      ]
    },
    {
      "cell_type": "code",
      "source": [
        "numero = int(input(\"Digite um número inteiro: \"))\n",
        "i = 1\n",
        "\n",
        "while i <= 10:\n",
        "    print(f'{numero} x {i} = {numero * i}')\n",
        "    i += 1"
      ],
      "metadata": {
        "id": "fvA845pD6nrQ"
      },
      "execution_count": null,
      "outputs": []
    }
  ]
}