{
  "nbformat": 4,
  "nbformat_minor": 0,
  "metadata": {
    "colab": {
      "provenance": [],
      "authorship_tag": "ABX9TyOgX4upFBu+AKUqOm4LtU1t",
      "include_colab_link": true
    },
    "kernelspec": {
      "name": "python3",
      "display_name": "Python 3"
    },
    "language_info": {
      "name": "python"
    }
  },
  "cells": [
    {
      "cell_type": "markdown",
      "metadata": {
        "id": "view-in-github",
        "colab_type": "text"
      },
      "source": [
        "<a href=\"https://colab.research.google.com/github/BrunoLaprince/jogo-do-numero-secreto/blob/main/Switch_Case_(Escolha_Caso).ipynb\" target=\"_parent\"><img src=\"https://colab.research.google.com/assets/colab-badge.svg\" alt=\"Open In Colab\"/></a>"
      ]
    },
    {
      "cell_type": "markdown",
      "source": [
        "Questões da prova:"
      ],
      "metadata": {
        "id": "cbRPzH7xQ9fb"
      }
    },
    {
      "cell_type": "code",
      "execution_count": null,
      "metadata": {
        "id": "Am_9JxU962hQ"
      },
      "outputs": [],
      "source": [
        "contador = 0\n",
        "soma = 0\n",
        "\n",
        "while contador < 5:\n",
        "    numero = int(input(\"Digite um número: \"))\n",
        "    if numero %2 == 0:\n",
        "        soma += numero\n",
        "        contador += 1\n",
        "    print('Soma dos números:', soma)"
      ]
    },
    {
      "cell_type": "code",
      "source": [
        "total = 0\n",
        "for i in range(1,8):\n",
        "    if i %3 == 0:\n",
        "        total += i\n",
        "print('Resultado', total)"
      ],
      "metadata": {
        "colab": {
          "base_uri": "https://localhost:8080/"
        },
        "id": "v5PFsBnmAvX3",
        "outputId": "d3baf440-5611-4b15-d7df-e1f4e33eb2da"
      },
      "execution_count": null,
      "outputs": [
        {
          "output_type": "stream",
          "name": "stdout",
          "text": [
            "Resultado 9\n"
          ]
        }
      ]
    },
    {
      "cell_type": "code",
      "source": [
        "x = 1\n",
        "while x <= 5:\n",
        "    if x == 3:\n",
        "        print('Número especial:', x)\n",
        "    elif x %2 == 0:\n",
        "        print('Número par:', x)\n",
        "    else:\n",
        "        print('Número ímper:', x)\n",
        "    x += 1"
      ],
      "metadata": {
        "colab": {
          "base_uri": "https://localhost:8080/"
        },
        "id": "A-SMSUCNBpDT",
        "outputId": "260c2a19-6798-4d6f-f4dd-2597291d0a5a"
      },
      "execution_count": null,
      "outputs": [
        {
          "output_type": "stream",
          "name": "stdout",
          "text": [
            "Número ímper: 1\n",
            "Número par: 2\n",
            "Número especial: 3\n",
            "Número par: 4\n",
            "Número ímper: 5\n"
          ]
        }
      ]
    },
    {
      "cell_type": "markdown",
      "source": [
        "Atividade Switch Case (Escolha Caso)"
      ],
      "metadata": {
        "id": "MAW9SRfSRCsz"
      }
    },
    {
      "cell_type": "code",
      "source": [
        "diaemana = input(\"Escolha o dia da semana (1, 2, 3, 4, 5, 6 e 7):\")\n",
        "def match diasemana\n",
        "        if diaSemana == 1:\n",
        "        print(\"Domingo\")\n",
        "        elif diaSemana == 2:\n",
        "            print(\"Segunda-feira\")\n",
        "        elif diaSemana == 3:\n",
        "                print(\"Terça-feira\")\n",
        "     elif diaSemana == 4:\n",
        "                    print(\"Quarta-feira\")\n",
        "     elif diaSemana == 5:\n",
        "                         print(\"Quinta-feira\")\n",
        "    elif diaSemana == 6:\n",
        "                            print(\"Sexta-feira\")\n",
        "    elif diaSemana == 7:\n",
        "                                print(\"Sábado\")\n",
        "    else:\n",
        "                                    print(\"Opção inválida\")\n"
      ],
      "metadata": {
        "colab": {
          "base_uri": "https://localhost:8080/",
          "height": 106
        },
        "id": "rYXeVlfYEuQc",
        "outputId": "df22f092-2994-46a5-fb0e-f03ac618637d"
      },
      "execution_count": null,
      "outputs": [
        {
          "output_type": "error",
          "ename": "SyntaxError",
          "evalue": "expected '(' (ipython-input-1663754472.py, line 2)",
          "traceback": [
            "\u001b[0;36m  File \u001b[0;32m\"/tmp/ipython-input-1663754472.py\"\u001b[0;36m, line \u001b[0;32m2\u001b[0m\n\u001b[0;31m    def match diaSemana\u001b[0m\n\u001b[0m              ^\u001b[0m\n\u001b[0;31mSyntaxError\u001b[0m\u001b[0;31m:\u001b[0m expected '('\n"
          ]
        }
      ]
    },
    {
      "cell_type": "markdown",
      "source": [
        "1- Escreva um programa que solicita ao usuário que insira um número inteiro de 1 a 7 representando um dia da semana (onde 1 é segunda-feira, 2 é terça-feira, e assim por diante até 7, que representa domingo). O programa deve utilizar a função “escolha caso” para exibir o nome correspondente do dia da semana. Se o usuário inserir um número fora do intervalo de 1 a 7, o programa\n",
        "deve exibir uma mensagem indicando que o valor inserido é inválido.\n",
        "\n",
        "Exemplo de entrada: 3\n",
        "Exemplo de saída: \"Quarta-feira“"
      ],
      "metadata": {
        "id": "bJf7mtBoRPQ3"
      }
    },
    {
      "cell_type": "code",
      "source": [
        "numero = int(input('Digite um número de 1 a 7 (ou 0 para sair):'))\n",
        "\n",
        "while numero != 0:\n",
        "    match numero:\n",
        "        case 1:\n",
        "            print('Segunda-feira')\n",
        "        case 2:\n",
        "            print('Terça-feira')\n",
        "        case 3:\n",
        "            print ('Quarta-feira')\n",
        "        case 4:\n",
        "            print ('Quinta-feira')\n",
        "        case 5:\n",
        "            print ('Sexta-feira')\n",
        "        case 6:\n",
        "            print ('Sábado')\n",
        "        case 7:\n",
        "            print ('Domingo')\n",
        "        case _:\n",
        "            print ('Opção inválida')\n",
        "\n",
        "    numero = int(input('Digite um númeo de 1 a 7 (ou 0 para sair'))\n",
        "    print('\\nO dia referente ao número escolhido é:!')"
      ],
      "metadata": {
        "id": "B2WRAO5wQSYx"
      },
      "execution_count": null,
      "outputs": []
    },
    {
      "cell_type": "markdown",
      "source": [
        "2-Crie um programa em Python que solicita ao usuário que insira o nome de uma cor básica(Vermelho, Azul ou Amarelo). O programa deve utilizar a função escolha caso para exibir uma mensagem indicando se a cor é primária ou não. Se o usuário inserir um nome de cor diferente, o programa deve exibir a mensagem \"Cor não reconhecida\"\n",
        ".\n",
        "Exemplo de entrada: \"Azul“\n",
        "Exemplo de saída: \"A cor Azul é uma cor primária.\n",
        "“\n",
        "\n",
        "Exemplo de entrada: \"Verde“\n",
        "Exemplo de saída: \"Cor não reconhecida."
      ],
      "metadata": {
        "id": "NuJLvwiKRk42"
      }
    },
    {
      "cell_type": "code",
      "source": [
        "cores = ['Vermelho', 'Azul', 'Amarelo']\n",
        "cor = string{input('Escolha uma cor e veja se ela é primária ou não:')}\n",
        "\n",
        "    match cor:\n",
        "        case 1:\n",
        "            print('A cor', cor, 'é uma cor primária')\n",
        "            print('\\n')\n",
        "        case 2:\n",
        "            print('A cor', cor, 'é uma cor primária')\n",
        "            print('\\n')\n",
        "        case 3:\n",
        "            print('A cor', cor, 'não é uma cor primária')\n",
        "            print('\\n')\n",
        "        case _:\n",
        "            print('A cor não reconhecida')\n",
        "            print('\\n')\n",
        "    cores = int"
      ],
      "metadata": {
        "id": "iOnzIEGfQ7zL"
      },
      "execution_count": null,
      "outputs": []
    },
    {
      "cell_type": "code",
      "source": [
        "cores = ['Vermelho', 'Azul', 'Amarelo']\n",
        "cor = input('Escolha uma cor e veja se ela é primária ou não: ')\n",
        "\n",
        "def verificar_cor(cor):\n",
        "    switcher = {\n",
        "        'Vermelho': 'A cor Vermelho é uma cor primária',\n",
        "        'Azul': 'A cor Azul é uma cor primária',\n",
        "        'Amarelo': 'A cor Amarelo é uma cor primária'\n",
        "    }\n",
        "    return switcher.get(cor, 'A cor não reconhecida ou não é uma cor primária')\n",
        "\n",
        "resultado = verificar_cor(cor)\n",
        "print(resultado)"
      ],
      "metadata": {
        "id": "6icroeWmXJ1M"
      },
      "execution_count": null,
      "outputs": []
    },
    {
      "cell_type": "code",
      "source": [
        "cores = ['Vermelho', 'Azul', 'Amarelo']\n",
        "\n",
        "while True:\n",
        "    cor = input('Escolha uma cor (ou digite \"sair\" para encerrar): ')\n",
        "\n",
        "    if cor.lower() == 'sair':\n",
        "        print('Saindo...')\n",
        "        break\n",
        "\n",
        "    def verificar_cor(cor):\n",
        "        switcher = {\n",
        "            'Vermelho': 'A cor Vermelho é uma cor primária',\n",
        "            'Azul': 'A cor Azul é uma cor primária',\n",
        "            'Amarelo': 'A cor Amarelo é uma cor primária'\n",
        "        }\n",
        "        return switcher.get(cor, 'A cor não reconhecida ou não é uma cor primária')\n",
        "\n",
        "    resultado = verificar_cor(cor)\n",
        "    print('\\n')\n",
        "    print(resultado)"
      ],
      "metadata": {
        "colab": {
          "base_uri": "https://localhost:8080/"
        },
        "id": "Kr8nUH7tXWvS",
        "outputId": "dff56966-3597-4a4b-b1ea-62e9d0e00c8c"
      },
      "execution_count": null,
      "outputs": [
        {
          "output_type": "stream",
          "name": "stdout",
          "text": [
            "Escolha uma cor (ou digite \"sair\" para encerrar): Amarelo\n",
            "\n",
            "\n",
            "A cor Amarelo é uma cor primária\n"
          ]
        }
      ]
    },
    {
      "cell_type": "markdown",
      "source": [
        "3- Crie um programa em Portugol que solicite ao usuário um número de 1 a 4 e informe o tipo de atividade correspondente em um esportes, conforme a tabela abaixo:\n",
        "1 - Vôlei\n",
        "2 - Futebol\n",
        "3 - Bike\n",
        "4 - Corrida"
      ],
      "metadata": {
        "id": "wbikrUnIYVGh"
      }
    },
    {
      "cell_type": "code",
      "source": [],
      "metadata": {
        "id": "NoXrVhaiYYtN"
      },
      "execution_count": null,
      "outputs": []
    }
  ]
}